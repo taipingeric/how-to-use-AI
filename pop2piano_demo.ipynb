{
  "cells": [
    {
      "cell_type": "markdown",
      "metadata": {
        "id": "PTi7KnRMr_zK"
      },
      "source": [
        "## 設定環境\n",
        "\n",
        "* 執行階段 > 變更執行階段類型 > 使用GPU\n",
        "* 安裝Pop2Piano"
      ]
    },
    {
      "cell_type": "code",
      "execution_count": null,
      "metadata": {
        "id": "qmkz61oDYVd0"
      },
      "outputs": [],
      "source": [
        "# 下載安裝套件\n",
        "!apt-get install -y fluidsynth\n",
        "\n",
        "# Fix\n",
        "!git clone https://github.com/taipingeric/pop2piano\n",
        "# Official\n",
        "# !git clone https://github.com/sweetcocoa/pop2piano/\n",
        "\n",
        "!cd pop2piano\n",
        "!pip install pretty-midi==0.2.9 omegaconf==2.1.1 youtube-dl==2021.12.17 transformers==4.16.1 pytorch-lightning essentia==2.1b6.dev609 note-seq==0.0.3 pyFluidSynth==1.3.0\n",
        "# 下載官方模型參數\n",
        "!wget https://github.com/sweetcocoa/pop2piano/releases/download/dpi_2k_epoch/model-1999-val_0.67311615.ckpt"
      ]
    },
    {
      "cell_type": "markdown",
      "metadata": {
        "id": "ftWe-4ftswtw"
      },
      "source": [
        "## Import 套件"
      ]
    },
    {
      "cell_type": "code",
      "execution_count": null,
      "metadata": {
        "id": "uep2XHwSYonZ"
      },
      "outputs": [],
      "source": [
        "import os \n",
        "import sys\n",
        "sys.path.append(\"pop2piano\")\n",
        "import glob\n",
        "import random\n",
        "\n",
        "import torch\n",
        "import torchaudio\n",
        "import librosa\n",
        "import numpy as np\n",
        "import pandas as pd\n",
        "import IPython.display as ipd\n",
        "import soundfile as sf\n",
        "from google.colab import files\n",
        "\n",
        "from tqdm.auto import tqdm\n",
        "from omegaconf import OmegaConf\n",
        "import note_seq\n",
        "\n",
        "from utils.dsp import get_stereo\n",
        "from utils.demo import download_youtube\n",
        "from transformer_wrapper import TransformerWrapper\n",
        "from midi_tokenizer import MidiTokenizer, extrapolate_beat_times\n",
        "from preprocess.beat_quantizer import extract_rhythm, interpolate_beat_times"
      ]
    },
    {
      "cell_type": "code",
      "execution_count": null,
      "metadata": {
        "id": "31GCah7G6LgQ"
      },
      "outputs": [],
      "source": [
        "device = \"cuda\" if torch.cuda.is_available() else \"cpu\"\n",
        "config = OmegaConf.load(\"pop2piano/config.yaml\")\n",
        "wrapper = TransformerWrapper(config)\n",
        "wrapper = wrapper.load_from_checkpoint(\"model-1999-val_0.67311615.ckpt\", config=config).to(device)\n",
        "model = \"dpipqxiy\"\n",
        "wrapper.eval()\n",
        "\"\""
      ]
    },
    {
      "cell_type": "markdown",
      "metadata": {
        "id": "LyB2l1TutI5k"
      },
      "source": [
        "## 選擇編曲者1~21"
      ]
    },
    {
      "cell_type": "code",
      "execution_count": null,
      "metadata": {
        "id": "PaxFoU8AGdY-"
      },
      "outputs": [],
      "source": [
        "composer = \"composer1\""
      ]
    },
    {
      "cell_type": "markdown",
      "metadata": {
        "id": "fa5q3qxFtbke"
      },
      "source": [
        "## 上傳歌曲檔案 (.wav, .mp3)"
      ]
    },
    {
      "cell_type": "code",
      "execution_count": null,
      "metadata": {
        "id": "Fu_9J3T5HYtn"
      },
      "outputs": [],
      "source": [
        "file = files.upload()\n",
        "audio_file = list(file.keys())[0]"
      ]
    },
    {
      "cell_type": "code",
      "execution_count": null,
      "metadata": {
        "id": "2YdzBvH7_Mi-"
      },
      "outputs": [],
      "source": [
        "pm, composer, mix_path, midi_path = wrapper.generate(\n",
        "    audio_path=audio_file, \n",
        "    composer=composer, \n",
        "    model=model,\n",
        "    show_plot=True, \n",
        "    save_midi=True, \n",
        "    save_mix=True, \n",
        ")"
      ]
    },
    {
      "cell_type": "code",
      "source": [],
      "metadata": {
        "id": "TZ7QzqyWKZOL"
      },
      "execution_count": null,
      "outputs": []
    }
  ],
  "metadata": {
    "accelerator": "GPU",
    "colab": {
      "provenance": []
    },
    "gpuClass": "standard",
    "kernelspec": {
      "display_name": "Python 3",
      "name": "python3"
    },
    "language_info": {
      "name": "python"
    }
  },
  "nbformat": 4,
  "nbformat_minor": 0
}